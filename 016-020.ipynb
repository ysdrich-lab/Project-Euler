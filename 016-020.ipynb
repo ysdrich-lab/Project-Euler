{
 "cells": [
  {
   "cell_type": "markdown",
   "metadata": {},
   "source": [
    "# Problem 16\n",
    "## Power digit sum\n",
    "$2 ^ {15}  = 32768$ and the sum of its digits is 3 + 2 + 7 + 6 + 8 = 26.\n",
    "\n",
    "What is the sum of the digits of the number $2^ {1000}?$\n",
    "\n",
    "$2^{15} = 32768$ であり, 各位の数字の和は 3 + 2 + 7 + 6 + 8 = 26 となる.\n",
    "\n",
    "同様にして, $2^{1000}$ の各位の数字の和を求めよ."
   ]
  },
  {
   "cell_type": "code",
   "execution_count": 3,
   "metadata": {},
   "outputs": [
    {
     "name": "stdout",
     "output_type": "stream",
     "text": [
      "1366\n"
     ]
    }
   ],
   "source": [
    "def digitSum(n):\n",
    "    s = str(n)\n",
    "    array = list(map(int, s))\n",
    "    return sum(array)\n",
    "\n",
    "print(digitSum(2**1000))"
   ]
  },
  {
   "cell_type": "code",
   "execution_count": null,
   "metadata": {},
   "outputs": [],
   "source": []
  }
 ],
 "metadata": {
  "kernelspec": {
   "display_name": "Python 3",
   "language": "python",
   "name": "python3"
  },
  "language_info": {
   "codemirror_mode": {
    "name": "ipython",
    "version": 3
   },
   "file_extension": ".py",
   "mimetype": "text/x-python",
   "name": "python",
   "nbconvert_exporter": "python",
   "pygments_lexer": "ipython3",
   "version": "3.7.6"
  }
 },
 "nbformat": 4,
 "nbformat_minor": 4
}
